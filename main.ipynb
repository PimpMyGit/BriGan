{
 "cells": [
  {
   "cell_type": "markdown",
   "metadata": {},
   "source": [
    "# Deps"
   ]
  },
  {
   "cell_type": "code",
   "execution_count": 1,
   "metadata": {},
   "outputs": [],
   "source": [
    "\"\"\" Dependencies import \"\"\"\n",
    "\n",
    "# !pip install pytube\n",
    "# !pip install moviepy\n",
    "# !pip install pydub\n",
    "\n",
    "\n",
    "import os\n",
    "import numpy as np\n",
    "\n",
    "import librosa\n",
    "\n",
    "import pydub\n",
    "import moviepy.editor as mvd\n",
    "from pytube import YouTube, Playlist\n",
    "\n",
    "import cv2 as cv\n",
    "from cv2 import CAP_PROP_FPS as _cv_frame_rate\n",
    "from cv2 import CAP_PROP_FRAME_WIDTH as _cv_frame_width\n",
    "from cv2 import CAP_PROP_FRAME_HEIGHT as _cv_frame_height\n",
    "from cv2 import CAP_PROP_FRAME_COUNT as _cv_frame_count\n",
    "from cv2 import CAP_PROP_POS_FRAMES as _cv_current_frame_index\n",
    "\n",
    "from matplotlib import pyplot as plt"
   ]
  },
  {
   "cell_type": "markdown",
   "metadata": {},
   "source": [
    "# Download playlist and video"
   ]
  },
  {
   "cell_type": "code",
   "execution_count": 18,
   "metadata": {},
   "outputs": [],
   "source": [
    "class YTRes():\n",
    "    low_resolutions = ['360p', '240p', '144p']\n",
    "    mid_resolutions = ['720p', '480p', '360p']\n",
    "    high_resolution = ['1080p', '720p']\n",
    "\n",
    "def download_video(video: str or YouTube, resolution: None or str or list = None):\n",
    "    if type(video) is str:\n",
    "        youtubeObject = YouTube(video)\n",
    "    else:\n",
    "        youtubeObject = video\n",
    "    \n",
    "    if not resolution:\n",
    "        youtubeObject = youtubeObject.streams.get_highest_resolution()\n",
    "    elif type(resolution) is list:\n",
    "        for res in resolution:\n",
    "            yto = youtubeObject.streams.filter(res=res).first\n",
    "            if yto != None:\n",
    "                youtubeObject = yto\n",
    "                break\n",
    "    else:\n",
    "        youtubeObject.streams.filter(res=resolution).first()\n",
    "        if not youtubeObject:\n",
    "            print(f'Resolution {res} not avaliable')\n",
    "\n",
    "    try:\n",
    "        youtubeObject.download()\n",
    "        print(f\"End download {youtubeObject.title}\")\n",
    "    except:\n",
    "        print(\"An error has occurred\")\n",
    "    \n",
    "\n",
    "def download_playlist(playlist: str or Playlist, resolution: None or str or list = None):\n",
    "    if type(playlist) is str:\n",
    "        playlitsObject = Playlist(playlist)\n",
    "    else:\n",
    "        playlitsObject = playlist\n",
    "    \n",
    "    for iv,video in enumerate(playlitsObject.videos):\n",
    "        print(f'{iv}. --- Start download {video.title}')\n",
    "        download_video(video)"
   ]
  },
  {
   "cell_type": "code",
   "execution_count": 22,
   "metadata": {},
   "outputs": [],
   "source": [
    "video_link = [\n",
    "    'https://youtu.be/D5veVBWNxYw?list=PLBrn4fh0NHXk28UG7iyYSwfSQY-7a_A-R',\n",
    "    'https://youtu.be/cXNh1ml9B7U'\n",
    "][0]\n",
    "\n",
    "playlist_link = [\n",
    "    'https://www.youtube.com/playlist?list=PLBrn4fh0NHXk28UG7iyYSwfSQY-7a_A-R', # silly simphonies skeletons\n",
    "][0]\n",
    "\n",
    "resolution = YTRes.mid_resolutions"
   ]
  },
  {
   "cell_type": "code",
   "execution_count": 23,
   "metadata": {},
   "outputs": [
    {
     "name": "stdout",
     "output_type": "stream",
     "text": [
      "An error has occurred\n"
     ]
    },
    {
     "ename": "AttributeError",
     "evalue": "'function' object has no attribute 'title'",
     "output_type": "error",
     "traceback": [
      "\u001b[1;31m---------------------------------------------------------------------------\u001b[0m",
      "\u001b[1;31mAttributeError\u001b[0m                            Traceback (most recent call last)",
      "Cell \u001b[1;32mIn[23], line 1\u001b[0m\n\u001b[1;32m----> 1\u001b[0m \u001b[43mdownload_video\u001b[49m\u001b[43m(\u001b[49m\u001b[43mvideo_link\u001b[49m\u001b[43m,\u001b[49m\u001b[43m \u001b[49m\u001b[43mresolution\u001b[49m\u001b[38;5;241;43m=\u001b[39;49m\u001b[43mresolution\u001b[49m\u001b[43m)\u001b[49m\n\u001b[0;32m      2\u001b[0m \u001b[38;5;66;03m# download_playlist(playlist_link, resolution=resolution)\u001b[39;00m\n",
      "Cell \u001b[1;32mIn[18], line 30\u001b[0m, in \u001b[0;36mdownload_video\u001b[1;34m(video, resolution)\u001b[0m\n\u001b[0;32m     27\u001b[0m \u001b[38;5;28;01mexcept\u001b[39;00m:\n\u001b[0;32m     28\u001b[0m     \u001b[38;5;28mprint\u001b[39m(\u001b[38;5;124m\"\u001b[39m\u001b[38;5;124mAn error has occurred\u001b[39m\u001b[38;5;124m\"\u001b[39m)\n\u001b[1;32m---> 30\u001b[0m \u001b[38;5;28mprint\u001b[39m(\u001b[38;5;124mf\u001b[39m\u001b[38;5;124m\"\u001b[39m\u001b[38;5;124mEnd download \u001b[39m\u001b[38;5;132;01m{\u001b[39;00myoutubeObject\u001b[38;5;241m.\u001b[39mtitle\u001b[38;5;132;01m}\u001b[39;00m\u001b[38;5;124m\"\u001b[39m)\n",
      "\u001b[1;31mAttributeError\u001b[0m: 'function' object has no attribute 'title'"
     ]
    }
   ],
   "source": [
    "download_video(video_link, resolution=resolution)\n",
    "# download_playlist(playlist_link, resolution=resolution)"
   ]
  },
  {
   "cell_type": "markdown",
   "metadata": {},
   "source": [
    "# Handle video"
   ]
  },
  {
   "cell_type": "code",
   "execution_count": 2,
   "metadata": {},
   "outputs": [],
   "source": [
    "def video_from_folder(folder: str, fullpath=True, ext: str or list = '.mp4'):\n",
    "    video_files = []\n",
    "    ext = list(ext) if type(ext) is str else ext\n",
    "    _ = [video_files.extend(files_from_folder(folder, fullpath, e)) for e in ext]\n",
    "    return sorted(video_files)\n",
    "\n",
    "def audio_from_folder(folder: str, fullpath=True, ext: str or list = '.mp3'):\n",
    "    audio_files = []\n",
    "    ext = list(ext) if type(ext) is str else ext\n",
    "    _ = [audio_files.extend(files_from_folder(folder, fullpath, e)) for e in ext]\n",
    "    return sorted(audio_files)\n",
    "\n",
    "def files_from_folder(folder: str, fullpath=True, ext: None or str = None):\n",
    "    return sorted([f'{folder if fullpath else \"\"}{f}' for f in os.listdir(folder) if (f.endswith(ext) if ext else True)])\n",
    "\n",
    "def read_video(filename: str):\n",
    "    # return cv.VideoCapture(filename)\n",
    "    return mvd.VideoFileClip(filename)\n",
    "\n",
    "def video_write_audio(video_filename: str, mp3_filename: None or str = None):\n",
    "    video = read_video(video_filename)\n",
    "    mp3_filename = f'{video_filename[ : video_filename.index(\".\")]}.mp3' if mp3_filename==None else mp3_filename\n",
    "    video.audio.write_audiofile(mp3_filename)"
   ]
  },
  {
   "cell_type": "markdown",
   "metadata": {},
   "source": [
    "## Extract audio"
   ]
  },
  {
   "cell_type": "code",
   "execution_count": 3,
   "metadata": {},
   "outputs": [
    {
     "name": "stderr",
     "output_type": "stream",
     "text": [
      "chunk:   1%|▏         | 111/8475 [00:00<00:07, 1107.63it/s, now=None]"
     ]
    },
    {
     "name": "stdout",
     "output_type": "stream",
     "text": [
      "MoviePy - Writing audio in VideoMP4/SillySimphoniesSkeletons/Betty Boops Halloween Party 1933 720p.mp3\n"
     ]
    },
    {
     "name": "stderr",
     "output_type": "stream",
     "text": [
      "                                                                      \r"
     ]
    },
    {
     "name": "stdout",
     "output_type": "stream",
     "text": [
      "MoviePy - Done.\n"
     ]
    },
    {
     "name": "stderr",
     "output_type": "stream",
     "text": [
      "chunk:   0%|          | 29/6774 [00:00<00:24, 272.64it/s, now=None]"
     ]
    },
    {
     "name": "stdout",
     "output_type": "stream",
     "text": [
      "MoviePy - Writing audio in VideoMP4/SillySimphoniesSkeletons/BLiSS - The Skeleton Dance.mp3\n"
     ]
    },
    {
     "name": "stderr",
     "output_type": "stream",
     "text": [
      "                                                                      \r"
     ]
    },
    {
     "name": "stdout",
     "output_type": "stream",
     "text": [
      "MoviePy - Done.\n"
     ]
    },
    {
     "name": "stderr",
     "output_type": "stream",
     "text": [
      "chunk:   1%|          | 102/9641 [00:00<00:09, 954.83it/s, now=None]"
     ]
    },
    {
     "name": "stdout",
     "output_type": "stream",
     "text": [
      "MoviePy - Writing audio in VideoMP4/SillySimphoniesSkeletons/Danse Macabre Camille Saint-Saëns 1980s cartoon PBS elementary school music class.mp3\n"
     ]
    },
    {
     "name": "stderr",
     "output_type": "stream",
     "text": [
      "                                                                      \r"
     ]
    },
    {
     "name": "stdout",
     "output_type": "stream",
     "text": [
      "MoviePy - Done.\n"
     ]
    },
    {
     "name": "stderr",
     "output_type": "stream",
     "text": [
      "chunk:   1%|          | 100/10499 [00:00<00:10, 999.05it/s, now=None]"
     ]
    },
    {
     "name": "stdout",
     "output_type": "stream",
     "text": [
      "MoviePy - Writing audio in VideoMP4/SillySimphoniesSkeletons/Flip the Frog  - Spooks (December 1931).mp3\n"
     ]
    },
    {
     "name": "stderr",
     "output_type": "stream",
     "text": [
      "                                                                        \r"
     ]
    },
    {
     "name": "stdout",
     "output_type": "stream",
     "text": [
      "MoviePy - Done.\n"
     ]
    },
    {
     "name": "stderr",
     "output_type": "stream",
     "text": [
      "chunk:   3%|▎         | 139/4018 [00:00<00:02, 1383.86it/s, now=None]"
     ]
    },
    {
     "name": "stdout",
     "output_type": "stream",
     "text": [
      "MoviePy - Writing audio in VideoMP4/SillySimphoniesSkeletons/Gogol Bordello - Supertheory Of Superverything.mp3\n"
     ]
    },
    {
     "name": "stderr",
     "output_type": "stream",
     "text": [
      "                                                                      \r"
     ]
    },
    {
     "name": "stdout",
     "output_type": "stream",
     "text": [
      "MoviePy - Done.\n"
     ]
    },
    {
     "name": "stderr",
     "output_type": "stream",
     "text": [
      "chunk:   4%|▎         | 311/8859 [00:00<00:06, 1261.52it/s, now=None]"
     ]
    },
    {
     "name": "stdout",
     "output_type": "stream",
     "text": [
      "MoviePy - Writing audio in VideoMP4/SillySimphoniesSkeletons/Mickey Mouse - The Haunted House (1929).mp3\n"
     ]
    },
    {
     "name": "stderr",
     "output_type": "stream",
     "text": [
      "                                                                      \r"
     ]
    },
    {
     "name": "stdout",
     "output_type": "stream",
     "text": [
      "MoviePy - Done.\n"
     ]
    },
    {
     "name": "stderr",
     "output_type": "stream",
     "text": [
      "chunk:   1%|          | 70/8742 [00:00<00:12, 693.55it/s, now=None]"
     ]
    },
    {
     "name": "stdout",
     "output_type": "stream",
     "text": [
      "MoviePy - Writing audio in VideoMP4/SillySimphoniesSkeletons/Mickey Mouse Cartoons - The Mad Doctor (Best Quality).mp3\n"
     ]
    },
    {
     "name": "stderr",
     "output_type": "stream",
     "text": [
      "                                                                      \r"
     ]
    },
    {
     "name": "stdout",
     "output_type": "stream",
     "text": [
      "MoviePy - Done.\n"
     ]
    },
    {
     "name": "stderr",
     "output_type": "stream",
     "text": [
      "chunk:   1%|          | 79/10302 [00:00<00:13, 782.97it/s, now=None]"
     ]
    },
    {
     "name": "stdout",
     "output_type": "stream",
     "text": [
      "MoviePy - Writing audio in VideoMP4/SillySimphoniesSkeletons/Minnie the Moocher Betty Boop HD 1080p.mp3\n"
     ]
    },
    {
     "name": "stderr",
     "output_type": "stream",
     "text": [
      "                                                                        \r"
     ]
    },
    {
     "name": "stdout",
     "output_type": "stream",
     "text": [
      "MoviePy - Done.\n"
     ]
    },
    {
     "name": "stderr",
     "output_type": "stream",
     "text": [
      "chunk:   1%|          | 93/8648 [00:00<00:09, 928.44it/s, now=None]"
     ]
    },
    {
     "name": "stdout",
     "output_type": "stream",
     "text": [
      "MoviePy - Writing audio in VideoMP4/SillySimphoniesSkeletons/oswald the luckyrabbit-Spooks（1930）.mp3\n"
     ]
    },
    {
     "name": "stderr",
     "output_type": "stream",
     "text": [
      "                                                                      \r"
     ]
    },
    {
     "name": "stdout",
     "output_type": "stream",
     "text": [
      "MoviePy - Done.\n"
     ]
    },
    {
     "name": "stderr",
     "output_type": "stream",
     "text": [
      "chunk:   1%|          | 84/7780 [00:00<00:09, 839.50it/s, now=None]"
     ]
    },
    {
     "name": "stdout",
     "output_type": "stream",
     "text": [
      "MoviePy - Writing audio in VideoMP4/SillySimphoniesSkeletons/Silly Symphony   Hells Bells 1929.mp3\n"
     ]
    },
    {
     "name": "stderr",
     "output_type": "stream",
     "text": [
      "                                                                      \r"
     ]
    },
    {
     "name": "stdout",
     "output_type": "stream",
     "text": [
      "MoviePy - Done.\n"
     ]
    },
    {
     "name": "stderr",
     "output_type": "stream",
     "text": [
      "chunk:   1%|          | 94/8061 [00:00<00:08, 932.80it/s, now=None]"
     ]
    },
    {
     "name": "stdout",
     "output_type": "stream",
     "text": [
      "MoviePy - Writing audio in VideoMP4/SillySimphoniesSkeletons/Silly Symphony - Egyptian Melodies.mp3\n"
     ]
    },
    {
     "name": "stderr",
     "output_type": "stream",
     "text": [
      "                                                                      \r"
     ]
    },
    {
     "name": "stdout",
     "output_type": "stream",
     "text": [
      "MoviePy - Done.\n"
     ]
    },
    {
     "name": "stderr",
     "output_type": "stream",
     "text": [
      "chunk:   2%|▏         | 153/9546 [00:00<00:06, 1449.35it/s, now=None]"
     ]
    },
    {
     "name": "stdout",
     "output_type": "stream",
     "text": [
      "MoviePy - Writing audio in VideoMP4/SillySimphoniesSkeletons/Skeleton Frolic (1937).mp3\n"
     ]
    },
    {
     "name": "stderr",
     "output_type": "stream",
     "text": [
      "                                                                      \r"
     ]
    },
    {
     "name": "stdout",
     "output_type": "stream",
     "text": [
      "MoviePy - Done.\n"
     ]
    },
    {
     "name": "stderr",
     "output_type": "stream",
     "text": [
      "chunk:   3%|▎         | 330/10939 [00:00<00:08, 1273.36it/s, now=None]"
     ]
    },
    {
     "name": "stdout",
     "output_type": "stream",
     "text": [
      "MoviePy - Writing audio in VideoMP4/SillySimphoniesSkeletons/Swing You Sinners.mp3\n"
     ]
    },
    {
     "name": "stderr",
     "output_type": "stream",
     "text": [
      "                                                                        \r"
     ]
    },
    {
     "name": "stdout",
     "output_type": "stream",
     "text": [
      "MoviePy - Done.\n"
     ]
    },
    {
     "name": "stderr",
     "output_type": "stream",
     "text": [
      "chunk:   0%|          | 29/10132 [00:00<00:35, 286.47it/s, now=None]"
     ]
    },
    {
     "name": "stdout",
     "output_type": "stream",
     "text": [
      "MoviePy - Writing audio in VideoMP4/SillySimphoniesSkeletons/The Haunted Ship   -  Van Beuren Studios  (1930).mp3\n"
     ]
    },
    {
     "name": "stderr",
     "output_type": "stream",
     "text": [
      "                                                                        \r"
     ]
    },
    {
     "name": "stdout",
     "output_type": "stream",
     "text": [
      "MoviePy - Done.\n"
     ]
    },
    {
     "name": "stderr",
     "output_type": "stream",
     "text": [
      "chunk:   1%|          | 105/11091 [00:00<00:10, 1047.84it/s, now=None]"
     ]
    },
    {
     "name": "stdout",
     "output_type": "stream",
     "text": [
      "MoviePy - Writing audio in VideoMP4/SillySimphoniesSkeletons/Wot A Night (Tom and Jerry Cartoon 1931).mp3\n"
     ]
    },
    {
     "name": "stderr",
     "output_type": "stream",
     "text": [
      "                                                                        "
     ]
    },
    {
     "name": "stdout",
     "output_type": "stream",
     "text": [
      "MoviePy - Done.\n"
     ]
    },
    {
     "name": "stderr",
     "output_type": "stream",
     "text": [
      "\r"
     ]
    }
   ],
   "source": [
    "vpath = 'VideoMP4/SillySimphoniesSkeletons/'\n",
    "\n",
    "videopaths = video_from_folder(vpath)\n",
    "\n",
    "_ = [video_write_audio(vp) for vp in videopaths]"
   ]
  },
  {
   "cell_type": "markdown",
   "metadata": {},
   "source": [
    "## Split Audio by Frames "
   ]
  },
  {
   "cell_type": "code",
   "execution_count": 3,
   "metadata": {},
   "outputs": [],
   "source": [
    "def files_couple(folder: str, fullpath: bool = True, ext_video: str or list = '.mp4', ext_audio: str or list ='.mp3'):\n",
    "    video_files = video_from_folder(folder, fullpath=fullpath, ext=ext_video)\n",
    "    audio_files = audio_from_folder(folder, fullpath=fullpath, ext=ext_audio)\n",
    "    assert(len(video_files)==len(audio_files))\n",
    "    return [[vf, af] for vf,af in zip(video_files, audio_files)]\n",
    "\n",
    "def frame_by_index(video: cv.VideoCapture, frame_index: int):\n",
    "    assert(frame_index >= 0 and frame_index <= video.get(_cv_frame_count))\n",
    "    video.set(_cv_current_frame_index, frame_index)\n",
    "    return video.read()[1]\n",
    "\n",
    "def write_mp3(filename: str, rate: int, audio: np.array):\n",
    "    channels = 2 if (audio.ndim == 2 and audio.shape[1] == 2) else 1\n",
    "    y = np.int16(audio)\n",
    "    song = pydub.AudioSegment(y.tobytes(), frame_rate=rate, sample_width=2, channels=channels)\n",
    "    song.export(filename, format=\"mp3\", bitrate=\"320k\")\n",
    "\n",
    "def frame_sounds_couple(videofile: str, audiofile: str, folder_name: str or None = None, out_name_prefix: str or None = None):\n",
    "    video = cv.VideoCapture(videofile)\n",
    "    video_rate = video.get(_cv_frame_rate)\n",
    "    n_frames = int(video.get(_cv_frame_count))\n",
    "    audio, audio_rate = librosa.load(audiofile)\n",
    "    sample_per_frame = audio_rate / video_rate\n",
    "\n",
    "    folder_name = folder_name if folder_name != None else videofile[:videofile.index('.')]\n",
    "    out_name_prefix = out_name_prefix if out_name_prefix != None else videofile[videofile.rindex('/')+1 if '/' in videofile else 0 : videofile.index('.')]\n",
    "    \n",
    "    os.mkdir(folder_name)\n",
    "\n",
    "    for fi in range(1, n_frames):\n",
    "        frame = frame_by_index(video, fi)\n",
    "        w_start, w_end = int((fi-1)*sample_per_frame), int(fi*sample_per_frame)\n",
    "        audio_interval = audio[w_start : w_end]\n",
    "        \n",
    "        filename = f'{folder_name}{\"\" if folder_name.endswith(\"/\") else \"/\"}{out_name_prefix}_seg_{str(fi).rjust(6, \"0\")}'\n",
    "        frame_filename, audio_filename = f'{filename}.png', f'{filename}.mp3'\n",
    "\n",
    "        cv.imwrite(frame_filename, frame)\n",
    "        write_mp3(audio_filename, audio_rate, audio_interval)\n"
   ]
  },
  {
   "cell_type": "code",
   "execution_count": 4,
   "metadata": {},
   "outputs": [],
   "source": [
    "fc = files_couple('VideoMP4/SillySimphoniesSkeletons/')"
   ]
  },
  {
   "cell_type": "code",
   "execution_count": 5,
   "metadata": {},
   "outputs": [
    {
     "name": "stderr",
     "output_type": "stream",
     "text": [
      "c:\\Users\\tommaso\\AppData\\Local\\Programs\\Python\\Python39\\lib\\site-packages\\librosa\\util\\decorators.py:88: UserWarning: PySoundFile failed. Trying audioread instead.\n",
      "  return f(*args, **kwargs)\n",
      "\n"
     ]
    }
   ],
   "source": [
    "fsc = frame_sounds_couple(*fc[0])"
   ]
  }
 ],
 "metadata": {
  "kernelspec": {
   "display_name": "Python 3",
   "language": "python",
   "name": "python3"
  },
  "language_info": {
   "codemirror_mode": {
    "name": "ipython",
    "version": 3
   },
   "file_extension": ".py",
   "mimetype": "text/x-python",
   "name": "python",
   "nbconvert_exporter": "python",
   "pygments_lexer": "ipython3",
   "version": "3.9.1"
  }
 },
 "nbformat": 4,
 "nbformat_minor": 2
}
