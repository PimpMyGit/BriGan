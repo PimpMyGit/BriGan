{
 "cells": [
  {
   "cell_type": "markdown",
   "metadata": {},
   "source": [
    "# Deps"
   ]
  },
  {
   "cell_type": "code",
   "execution_count": 2,
   "metadata": {},
   "outputs": [
    {
     "ename": "AttributeError",
     "evalue": "'numpy._ArrayFunctionDispatcher' object has no attribute '__code__'",
     "output_type": "error",
     "traceback": [
      "\u001b[1;31m---------------------------------------------------------------------------\u001b[0m",
      "\u001b[1;31mAttributeError\u001b[0m                            Traceback (most recent call last)",
      "Cell \u001b[1;32mIn[2], line 24\u001b[0m\n\u001b[0;32m     21\u001b[0m \u001b[38;5;28;01mfrom\u001b[39;00m \u001b[38;5;21;01mcv2\u001b[39;00m \u001b[38;5;28;01mimport\u001b[39;00m CAP_PROP_FRAME_COUNT \u001b[38;5;28;01mas\u001b[39;00m _cv_frame_count\n\u001b[0;32m     22\u001b[0m \u001b[38;5;28;01mfrom\u001b[39;00m \u001b[38;5;21;01mcv2\u001b[39;00m \u001b[38;5;28;01mimport\u001b[39;00m CAP_PROP_POS_FRAMES \u001b[38;5;28;01mas\u001b[39;00m _cv_current_frame_index\n\u001b[1;32m---> 24\u001b[0m \u001b[38;5;28;01mimport\u001b[39;00m \u001b[38;5;21;01mskimage\u001b[39;00m\u001b[38;5;21;01m.\u001b[39;00m\u001b[38;5;21;01mio\u001b[39;00m\n\u001b[0;32m     25\u001b[0m \u001b[38;5;28;01mfrom\u001b[39;00m \u001b[38;5;21;01mskimage\u001b[39;00m\u001b[38;5;21;01m.\u001b[39;00m\u001b[38;5;21;01mio\u001b[39;00m \u001b[38;5;28;01mimport\u001b[39;00m imread\n\u001b[0;32m     27\u001b[0m \u001b[38;5;28;01mfrom\u001b[39;00m \u001b[38;5;21;01mmatplotlib\u001b[39;00m \u001b[38;5;28;01mimport\u001b[39;00m pyplot \u001b[38;5;28;01mas\u001b[39;00m plt\n",
      "File \u001b[1;32mc:\\Users\\tommaso\\AppData\\Local\\Programs\\Python\\Python39\\lib\\site-packages\\skimage\\__init__.py:134\u001b[0m\n\u001b[0;32m    125\u001b[0m     \u001b[38;5;28;01mfrom\u001b[39;00m \u001b[38;5;21;01m.\u001b[39;00m\u001b[38;5;21;01mutil\u001b[39;00m\u001b[38;5;21;01m.\u001b[39;00m\u001b[38;5;21;01mdtype\u001b[39;00m \u001b[38;5;28;01mimport\u001b[39;00m (img_as_float32,\n\u001b[0;32m    126\u001b[0m                              img_as_float64,\n\u001b[0;32m    127\u001b[0m                              img_as_float,\n\u001b[1;32m   (...)\u001b[0m\n\u001b[0;32m    131\u001b[0m                              img_as_bool,\n\u001b[0;32m    132\u001b[0m                              dtype_limits)\n\u001b[0;32m    133\u001b[0m     \u001b[38;5;28;01mfrom\u001b[39;00m \u001b[38;5;21;01m.\u001b[39;00m\u001b[38;5;21;01mdata\u001b[39;00m \u001b[38;5;28;01mimport\u001b[39;00m data_dir\n\u001b[1;32m--> 134\u001b[0m     \u001b[38;5;28;01mfrom\u001b[39;00m \u001b[38;5;21;01m.\u001b[39;00m\u001b[38;5;21;01mutil\u001b[39;00m\u001b[38;5;21;01m.\u001b[39;00m\u001b[38;5;21;01mlookfor\u001b[39;00m \u001b[38;5;28;01mimport\u001b[39;00m lookfor\n\u001b[0;32m    136\u001b[0m \u001b[38;5;28;01mdel\u001b[39;00m sys\n",
      "File \u001b[1;32mc:\\Users\\tommaso\\AppData\\Local\\Programs\\Python\\Python39\\lib\\site-packages\\skimage\\util\\__init__.py:18\u001b[0m\n\u001b[0;32m     15\u001b[0m \u001b[38;5;28;01mfrom\u001b[39;00m \u001b[38;5;21;01m.\u001b[39;00m\u001b[38;5;21;01m.\u001b[39;00m\u001b[38;5;21;01m_shared\u001b[39;00m\u001b[38;5;21;01m.\u001b[39;00m\u001b[38;5;21;01mutils\u001b[39;00m \u001b[38;5;28;01mimport\u001b[39;00m copy_func\n\u001b[0;32m     17\u001b[0m \u001b[38;5;28;01mfrom\u001b[39;00m \u001b[38;5;21;01mnumpy\u001b[39;00m \u001b[38;5;28;01mimport\u001b[39;00m pad \u001b[38;5;28;01mas\u001b[39;00m numpy_pad\n\u001b[1;32m---> 18\u001b[0m pad \u001b[38;5;241m=\u001b[39m \u001b[43mcopy_func\u001b[49m\u001b[43m(\u001b[49m\u001b[43mnumpy_pad\u001b[49m\u001b[43m,\u001b[49m\u001b[43m \u001b[49m\u001b[43mname\u001b[49m\u001b[38;5;241;43m=\u001b[39;49m\u001b[38;5;124;43m'\u001b[39;49m\u001b[38;5;124;43mpad\u001b[39;49m\u001b[38;5;124;43m'\u001b[39;49m\u001b[43m)\u001b[49m\n\u001b[0;32m     21\u001b[0m __all__ \u001b[38;5;241m=\u001b[39m [\u001b[38;5;124m'\u001b[39m\u001b[38;5;124mimg_as_float32\u001b[39m\u001b[38;5;124m'\u001b[39m,\n\u001b[0;32m     22\u001b[0m            \u001b[38;5;124m'\u001b[39m\u001b[38;5;124mimg_as_float64\u001b[39m\u001b[38;5;124m'\u001b[39m,\n\u001b[0;32m     23\u001b[0m            \u001b[38;5;124m'\u001b[39m\u001b[38;5;124mimg_as_float\u001b[39m\u001b[38;5;124m'\u001b[39m,\n\u001b[1;32m   (...)\u001b[0m\n\u001b[0;32m     40\u001b[0m            \u001b[38;5;124m'\u001b[39m\u001b[38;5;124munique_rows\u001b[39m\u001b[38;5;124m'\u001b[39m,\n\u001b[0;32m     41\u001b[0m            ]\n",
      "File \u001b[1;32mc:\\Users\\tommaso\\AppData\\Local\\Programs\\Python\\Python39\\lib\\site-packages\\skimage\\_shared\\utils.py:197\u001b[0m, in \u001b[0;36mcopy_func\u001b[1;34m(f, name)\u001b[0m\n\u001b[0;32m    186\u001b[0m \u001b[38;5;28;01mdef\u001b[39;00m \u001b[38;5;21mcopy_func\u001b[39m(f, name\u001b[38;5;241m=\u001b[39m\u001b[38;5;28;01mNone\u001b[39;00m):\n\u001b[0;32m    187\u001b[0m \u001b[38;5;250m    \u001b[39m\u001b[38;5;124;03m\"\"\"Create a copy of a function.\u001b[39;00m\n\u001b[0;32m    188\u001b[0m \n\u001b[0;32m    189\u001b[0m \u001b[38;5;124;03m    Parameters\u001b[39;00m\n\u001b[1;32m   (...)\u001b[0m\n\u001b[0;32m    195\u001b[0m \n\u001b[0;32m    196\u001b[0m \u001b[38;5;124;03m    \"\"\"\u001b[39;00m\n\u001b[1;32m--> 197\u001b[0m     \u001b[38;5;28;01mreturn\u001b[39;00m types\u001b[38;5;241m.\u001b[39mFunctionType(\u001b[43mf\u001b[49m\u001b[38;5;241;43m.\u001b[39;49m\u001b[38;5;18;43m__code__\u001b[39;49m, f\u001b[38;5;241m.\u001b[39m\u001b[38;5;18m__globals__\u001b[39m, name \u001b[38;5;129;01mor\u001b[39;00m f\u001b[38;5;241m.\u001b[39m\u001b[38;5;18m__name__\u001b[39m,\n\u001b[0;32m    198\u001b[0m                               f\u001b[38;5;241m.\u001b[39m\u001b[38;5;18m__defaults__\u001b[39m, f\u001b[38;5;241m.\u001b[39m\u001b[38;5;18m__closure__\u001b[39m)\n",
      "\u001b[1;31mAttributeError\u001b[0m: 'numpy._ArrayFunctionDispatcher' object has no attribute '__code__'"
     ]
    }
   ],
   "source": [
    "\"\"\" Dependencies import \"\"\"\n",
    "\n",
    "# !pip install pytube\n",
    "# !pip install moviepy\n",
    "# !pip install pydub\n",
    "\n",
    "\n",
    "import os\n",
    "import numpy as np\n",
    "\n",
    "import librosa\n",
    "\n",
    "import pydub\n",
    "import moviepy.editor as mvd\n",
    "from pytube import YouTube, Playlist\n",
    "\n",
    "import cv2 as cv\n",
    "from cv2 import CAP_PROP_FPS as _cv_frame_rate\n",
    "from cv2 import CAP_PROP_FRAME_WIDTH as _cv_frame_width\n",
    "from cv2 import CAP_PROP_FRAME_HEIGHT as _cv_frame_height\n",
    "from cv2 import CAP_PROP_FRAME_COUNT as _cv_frame_count\n",
    "from cv2 import CAP_PROP_POS_FRAMES as _cv_current_frame_index\n",
    "\n",
    "import skimage.io\n",
    "from skimage.io import imread\n",
    "\n",
    "from matplotlib import pyplot as plt"
   ]
  },
  {
   "cell_type": "markdown",
   "metadata": {},
   "source": [
    "# Download playlist and video"
   ]
  },
  {
   "cell_type": "code",
   "execution_count": null,
   "metadata": {},
   "outputs": [],
   "source": [
    "class YTRes():\n",
    "    low_resolutions = ['360p', '240p', '144p']\n",
    "    mid_resolutions = ['720p', '480p', '360p']\n",
    "    high_resolution = ['1080p', '720p']\n",
    "\n",
    "def download_video(video: str or YouTube, resolution: None or str or list = None):\n",
    "    if type(video) is str:\n",
    "        youtubeObject = YouTube(video)\n",
    "    else:\n",
    "        youtubeObject = video\n",
    "    \n",
    "    if not resolution:\n",
    "        youtubeObject = youtubeObject.streams.get_highest_resolution()\n",
    "    elif type(resolution) is list:\n",
    "        for res in resolution:\n",
    "            yto = youtubeObject.streams.filter(res=res).first\n",
    "            if yto != None:\n",
    "                youtubeObject = yto\n",
    "                break\n",
    "    else:\n",
    "        youtubeObject.streams.filter(res=resolution).first()\n",
    "        if not youtubeObject:\n",
    "            print(f'Resolution {res} not avaliable')\n",
    "\n",
    "    try:\n",
    "        youtubeObject.download()\n",
    "        print(f\"End download {youtubeObject.title}\")\n",
    "    except:\n",
    "        print(\"An error has occurred\")\n",
    "    \n",
    "\n",
    "def download_playlist(playlist: str or Playlist, resolution: None or str or list = None):\n",
    "    if type(playlist) is str:\n",
    "        playlitsObject = Playlist(playlist)\n",
    "    else:\n",
    "        playlitsObject = playlist\n",
    "    \n",
    "    for iv,video in enumerate(playlitsObject.videos):\n",
    "        print(f'{iv}. --- Start download {video.title}')\n",
    "        download_video(video)"
   ]
  },
  {
   "cell_type": "code",
   "execution_count": 4,
   "metadata": {},
   "outputs": [],
   "source": [
    "video_link = [\n",
    "    'https://youtu.be/D5veVBWNxYw?list=PLBrn4fh0NHXk28UG7iyYSwfSQY-7a_A-R',\n",
    "    'https://youtu.be/BuoXuXROH6I',\n",
    "    'https://youtu.be/nXVBtg5rlYI'\n",
    "][2]\n",
    "\n",
    "playlist_link = [\n",
    "    'https://www.youtube.com/playlist?list=PLBrn4fh0NHXk28UG7iyYSwfSQY-7a_A-R', # silly simphonies skeletons\n",
    "][0]\n",
    "\n",
    "resolution = YTRes().low_resolutions"
   ]
  },
  {
   "cell_type": "code",
   "execution_count": 5,
   "metadata": {},
   "outputs": [
    {
     "name": "stdout",
     "output_type": "stream",
     "text": [
      "End download La Linea 132\n"
     ]
    }
   ],
   "source": [
    "download_video(video_link, resolution=None)\n",
    "# download_playlist(playlist_link, resolution=resolution)"
   ]
  },
  {
   "cell_type": "markdown",
   "metadata": {},
   "source": [
    "# Handle video"
   ]
  },
  {
   "cell_type": "code",
   "execution_count": 5,
   "metadata": {},
   "outputs": [],
   "source": [
    "def video_from_folder(folder: str, fullpath=True, ext: str or list = '.mp4'):\n",
    "    video_files = []\n",
    "    ext = list(ext) if type(ext) is str else ext\n",
    "    _ = [video_files.extend(files_from_folder(folder, fullpath, e)) for e in ext]\n",
    "    return sorted(video_files)\n",
    "\n",
    "def audio_from_folder(folder: str, fullpath=True, ext: str or list = '.mp3'):\n",
    "    audio_files = []\n",
    "    ext = list(ext) if type(ext) is str else ext\n",
    "    _ = [audio_files.extend(files_from_folder(folder, fullpath, e)) for e in ext]\n",
    "    return sorted(audio_files)\n",
    "\n",
    "def image_from_folder(folder: str, fullpath=True, ext: str or list = ['.jpg', '.png']):\n",
    "    image_files = []\n",
    "    ext = list(ext) if type(ext) is str else ext\n",
    "    _ = [image_files.extend(files_from_folder(folder, fullpath, e)) for e in ext]\n",
    "    return sorted(image_files)\n",
    "\n",
    "def files_from_folder(folder: str, fullpath=True, ext: None or str = None):\n",
    "    return sorted([f'{folder if fullpath else \"\"}{f}' for f in os.listdir(folder) if (f.endswith(ext) if ext else True)])\n",
    "\n",
    "def read_video(filename: str):\n",
    "    # return cv.VideoCapture(filename)\n",
    "    return mvd.VideoFileClip(filename)\n",
    "\n",
    "def video_write_audio(video_filename: str, mp3_filename: None or str = None):\n",
    "    video = read_video(video_filename)\n",
    "    mp3_filename = f'{video_filename[ : video_filename.index(\".\")]}.mp3' if mp3_filename==None else mp3_filename\n",
    "    video.audio.write_audiofile(mp3_filename)"
   ]
  },
  {
   "cell_type": "markdown",
   "metadata": {},
   "source": [
    "## Extract audio"
   ]
  },
  {
   "cell_type": "code",
   "execution_count": 7,
   "metadata": {},
   "outputs": [
    {
     "name": "stderr",
     "output_type": "stream",
     "text": [
      "chunk:   4%|▎         | 125/3552 [00:00<00:02, 1242.69it/s, now=None]"
     ]
    },
    {
     "name": "stdout",
     "output_type": "stream",
     "text": [
      "MoviePy - Writing audio in VideoMP4/LaLinea/La Linea 132.mp3\n"
     ]
    },
    {
     "name": "stderr",
     "output_type": "stream",
     "text": [
      "                                                                      "
     ]
    },
    {
     "name": "stdout",
     "output_type": "stream",
     "text": [
      "MoviePy - Done.\n"
     ]
    },
    {
     "name": "stderr",
     "output_type": "stream",
     "text": [
      "\r"
     ]
    }
   ],
   "source": [
    "\"\"\" From entire folder \"\"\"\n",
    "\n",
    "vpath = 'VideoMP4/LaLinea/'\n",
    "\n",
    "videopaths = video_from_folder(vpath)\n",
    "\n",
    "_ = [video_write_audio(vp) for vp in videopaths]"
   ]
  },
  {
   "cell_type": "code",
   "execution_count": 10,
   "metadata": {},
   "outputs": [
    {
     "name": "stderr",
     "output_type": "stream",
     "text": [
      "chunk:   4%|▍         | 142/3552 [00:00<00:02, 1417.69it/s, now=None]"
     ]
    },
    {
     "name": "stdout",
     "output_type": "stream",
     "text": [
      "MoviePy - Writing audio in VideoMP4/LaLinea/La Linea 132.mp3\n"
     ]
    },
    {
     "name": "stderr",
     "output_type": "stream",
     "text": [
      "                                                                      "
     ]
    },
    {
     "name": "stdout",
     "output_type": "stream",
     "text": [
      "MoviePy - Done.\n"
     ]
    },
    {
     "name": "stderr",
     "output_type": "stream",
     "text": [
      "\r"
     ]
    }
   ],
   "source": [
    "\"\"\" From single file \"\"\"\n",
    "\n",
    "video_write_audio('VideoMP4/LaLinea/La Linea 132.mp4')"
   ]
  },
  {
   "cell_type": "markdown",
   "metadata": {},
   "source": [
    "## Split Audio by Frames "
   ]
  },
  {
   "cell_type": "code",
   "execution_count": null,
   "metadata": {},
   "outputs": [],
   "source": [
    "def files_couple(folder: str, fullpath: bool = True, ext_video: str or list = '.mp4', ext_audio: str or list ='.mp3'):\n",
    "    video_files = video_from_folder(folder, fullpath=fullpath, ext=ext_video)\n",
    "    audio_files = audio_from_folder(folder, fullpath=fullpath, ext=ext_audio)\n",
    "    assert(len(video_files)==len(audio_files))\n",
    "    return [[vf, af] for vf,af in zip(video_files, audio_files)]\n",
    "\n",
    "def frame_by_index(video: cv.VideoCapture, frame_index: int):\n",
    "    assert(frame_index >= 0 and frame_index <= video.get(_cv_frame_count))\n",
    "    video.set(_cv_current_frame_index, frame_index)\n",
    "    return video.read()[1]\n",
    "\n",
    "def write_mp3(filename: str, rate: int, audio: np.array):\n",
    "    channels = 2 if (audio.ndim == 2 and audio.shape[1] == 2) else 1\n",
    "    y = np.int16(audio)\n",
    "    song = pydub.AudioSegment(y.tobytes(), frame_rate=rate, sample_width=2, channels=channels)\n",
    "    song.export(filename, format=\"mp3\", bitrate=\"320k\")\n",
    "\n",
    "def frame_sounds_couple(videofile: str, audiofile: str, folder_name: str or None = None, out_name_prefix: str or None = None):\n",
    "    video = cv.VideoCapture(videofile)\n",
    "    video_rate = video.get(_cv_frame_rate)\n",
    "    n_frames = int(video.get(_cv_frame_count))\n",
    "    audio, audio_rate = librosa.load(audiofile)\n",
    "    sample_per_frame = audio_rate / video_rate\n",
    "\n",
    "    folder_name = folder_name if folder_name != None else videofile[:videofile.index('.')]\n",
    "    out_name_prefix = out_name_prefix if out_name_prefix != None else videofile[videofile.rindex('/')+1 if '/' in videofile else 0 : videofile.index('.')]\n",
    "    \n",
    "    os.mkdir(folder_name)\n",
    "\n",
    "    for fi in range(1, n_frames):\n",
    "        frame = frame_by_index(video, fi)\n",
    "        w_start, w_end = int((fi-1)*sample_per_frame), int(fi*sample_per_frame)\n",
    "        audio_interval = audio[w_start : w_end]\n",
    "        \n",
    "        filename = f'{folder_name}{\"\" if folder_name.endswith(\"/\") else \"/\"}{out_name_prefix}_seg_{str(fi).rjust(6, \"0\")}'\n",
    "        frame_filename, audio_filename = f'{filename}.png', f'{filename}.mp3'\n",
    "\n",
    "        cv.imwrite(frame_filename, frame)\n",
    "        write_mp3(audio_filename, audio_rate, audio_interval)\n"
   ]
  },
  {
   "cell_type": "code",
   "execution_count": 12,
   "metadata": {},
   "outputs": [
    {
     "data": {
      "text/plain": [
       "[['VideoMP4/LaLinea/La Linea 131.mp4', 'VideoMP4/LaLinea/La Linea 131.mp3'],\n",
       " ['VideoMP4/LaLinea/La Linea 132.mp4', 'VideoMP4/LaLinea/La Linea 132.mp3']]"
      ]
     },
     "execution_count": 12,
     "metadata": {},
     "output_type": "execute_result"
    }
   ],
   "source": [
    "fc = files_couple('VideoMP4/LaLinea/')\n",
    "fc"
   ]
  },
  {
   "cell_type": "code",
   "execution_count": 13,
   "metadata": {},
   "outputs": [
    {
     "name": "stderr",
     "output_type": "stream",
     "text": [
      "c:\\Users\\tommaso\\AppData\\Local\\Programs\\Python\\Python39\\lib\\site-packages\\librosa\\util\\decorators.py:88: UserWarning: PySoundFile failed. Trying audioread instead.\n",
      "  return f(*args, **kwargs)\n",
      "\n"
     ]
    }
   ],
   "source": [
    "_ = [frame_sounds_couple(*c) for c in fc[1:2]]"
   ]
  },
  {
   "cell_type": "markdown",
   "metadata": {},
   "source": [
    "# Load segments"
   ]
  },
  {
   "cell_type": "code",
   "execution_count": 168,
   "metadata": {},
   "outputs": [],
   "source": [
    "def load_path_dataset(folder: str, window_size: int = 2):\n",
    "    assert(window_size > 1)\n",
    "    \n",
    "    audiofiles = audio_from_folder(folder)\n",
    "    imagefiles = image_from_folder(folder)\n",
    "    assert(len(audiofiles)==len(imagefiles))\n",
    "\n",
    "    audiofiles_windows = []\n",
    "    for i in range(window_size-1, len(imagefiles)):\n",
    "        audiofiles_window = []\n",
    "        for p in range(window_size):\n",
    "            audiofiles_window.append(audiofiles[i-p])   \n",
    "        audiofiles_window.reverse() # o no ?\n",
    "        audiofiles_windows.append(audiofiles_window)\n",
    "    \n",
    "    return [[audiofiles_window, image] for audiofiles_window, image in zip(audiofiles_windows, imagefiles[window_size-1:])]\n",
    "\n",
    "def load_dataset_item(path_dataset: list, item_index: int):\n",
    "    assert(item_index < len(path_dataset))\n",
    "    path_dataset_item = path_dataset[item_index]\n",
    "    dataset_item = [[librosa.load(af) for af in path_dataset_item[0]], imread(path_dataset_item[1])]\n",
    "    return dataset_item"
   ]
  },
  {
   "cell_type": "code",
   "execution_count": 177,
   "metadata": {},
   "outputs": [],
   "source": [
    "# RAM overload\n",
    "\n",
    "# path_dataset = load_path_dataset('VideoMP4/SillySimphoniesSkeletons/Betty Boops Halloween Party 1933 720p/', 5)\n",
    "# dataset_item = load_dataset_item(path_dataset, 3000)"
   ]
  },
  {
   "cell_type": "code",
   "execution_count": 14,
   "metadata": {},
   "outputs": [
    {
     "name": "stderr",
     "output_type": "stream",
     "text": [
      "c:\\Users\\tommaso\\AppData\\Local\\Programs\\Python\\Python39\\lib\\site-packages\\librosa\\util\\decorators.py:88: UserWarning: PySoundFile failed. Trying audioread instead.\n",
      "  return f(*args, **kwargs)\n",
      "\n"
     ]
    }
   ],
   "source": [
    "x1, y1 = librosa.load('VideoMP4/LaLinea/La Linea 131/La Linea 131_seg_000001.mp3')\n",
    "x2, y2 = librosa.load('VideoMP4/LaLinea/La Linea 132/La Linea 132_seg_000001.mp3')"
   ]
  },
  {
   "cell_type": "code",
   "execution_count": 63,
   "metadata": {},
   "outputs": [
    {
     "data": {
      "text/plain": [
       "882"
      ]
     },
     "execution_count": 63,
     "metadata": {},
     "output_type": "execute_result"
    }
   ],
   "source": [
    "np.concatenate([x1,x2]).shape[0] //2"
   ]
  },
  {
   "cell_type": "markdown",
   "metadata": {},
   "source": [
    "# Tensorflow datagen"
   ]
  },
  {
   "cell_type": "code",
   "execution_count": 6,
   "metadata": {},
   "outputs": [],
   "source": [
    "from tensorflow import keras\n",
    "import pandas as pd\n",
    "\n",
    "class EmilianDataGen(keras.utils.Sequence):\n",
    "\n",
    "    # REF: [ https://medium.com/analytics-vidhya/write-your-own-custom-data-generator-for-tensorflow-keras-1252b64e41c3 ]\n",
    "    \n",
    "    def __init__(self, df, X_col, y_col, w_size, # Two columns dataset, X for audio paths (ap), y for frames path (fp), df will converted according to w_size -> item: [[ap_1, ap_2, ap_wsize], fp_wsize]\n",
    "                 batch_size,\n",
    "                 input_size,\n",
    "                 shuffle=False):\n",
    "        \n",
    "        self.df = df.copy()\n",
    "        self.X_col = X_col\n",
    "        self.y_col = y_col\n",
    "        self.batch_size = batch_size\n",
    "        self.input_size = input_size\n",
    "        self.w_size = w_size\n",
    "        self.shuffle = shuffle\n",
    "\n",
    "        self.format_wdf()\n",
    "\n",
    "        self.n = len(self.df)\n",
    "\n",
    "    def format_wdf(self):\n",
    "        entries = []\n",
    "        for i in range(len(self.df)):\n",
    "            if i >= self.w_size-1:\n",
    "                x = []\n",
    "                for k in range(self.w_size):\n",
    "                    x.append(self.df.iloc[i-k][self.X_col])\n",
    "                x = list(reversed(x))\n",
    "                y = self.df.iloc[i][self.y_col]\n",
    "                entries.append([x, y])\n",
    "        self.df = pd.DataFrame(entries, columns=[self.X_col, self.y_col])\n",
    "\n",
    "    def __get_input(self, audio_paths):\n",
    "        audios = []\n",
    "        for p in audio_paths:\n",
    "            a, _ = librosa.load(p)\n",
    "            audios.append(a)\n",
    "        return np.concatenate(audios)\n",
    "    \n",
    "    def __get_output(self, frame_path):\n",
    "        image = keras.preprocessing.image.load_img(frame_path)\n",
    "        image_arr = keras.preprocessing.image.img_to_array(image)\n",
    "        return image_arr / 255.\n",
    "    \n",
    "    def __get_data(self, batches):\n",
    "        # Generates data containing batch_size samples\n",
    "\n",
    "        X_batch = np.asarray([self.__get_input(audio_paths) for audio_paths in batches[self.X_col].to_list()])\n",
    "        y_batch = np.asarray([self.__get_output(frame_path) for frame_path in batches[self.y_col].to_list()])\n",
    "\n",
    "        return X_batch, y_batch\n",
    "    \n",
    "    def __getitem__(self, index):\n",
    "        batches = self.df[index*self.batch_size : (index+1)*self.batch_size]\n",
    "        X, y = self.__get_data(batches)        \n",
    "        return X, y\n",
    "    \n",
    "    def on_epoch_end(self):\n",
    "        if self.shuffle:\n",
    "            self.df = self.df.sample(frac=1).reset_index(drop=True)\n",
    "    \n",
    "    def __len__(self):\n",
    "        return self.n // self.batch_size"
   ]
  },
  {
   "cell_type": "code",
   "execution_count": 7,
   "metadata": {},
   "outputs": [],
   "source": [
    "audios = audio_from_folder('VideoMP4/LaLinea/La Linea 131/')\n",
    "frames = image_from_folder('VideoMP4/LaLinea/La Linea 131/')\n",
    "df = pd.DataFrame([[a,f] for a,f in zip(audios, frames)], columns=['audio', 'frame'])"
   ]
  },
  {
   "cell_type": "code",
   "execution_count": 8,
   "metadata": {},
   "outputs": [],
   "source": [
    "edg = EmilianDataGen(df, 'audio', 'frame', 3, 16, 882)"
   ]
  },
  {
   "cell_type": "code",
   "execution_count": 9,
   "metadata": {},
   "outputs": [
    {
     "name": "stderr",
     "output_type": "stream",
     "text": [
      "c:\\Users\\tommaso\\AppData\\Local\\Programs\\Python\\Python39\\lib\\site-packages\\librosa\\util\\decorators.py:88: UserWarning: PySoundFile failed. Trying audioread instead.\n",
      "  return f(*args, **kwargs)\n",
      "\n"
     ]
    },
    {
     "name": "stdout",
     "output_type": "stream",
     "text": [
      "len items (2, one for audio_windows one for frames)      ---->    2\n",
      "shape input (audio) = (batch_size, audio_size*w_size)    ---->    (16, 2646)\n",
      "shape output (frame) = (batch_size, im_h, im_w, n_ch)    ---->    (16, 360, 472, 3)\n"
     ]
    }
   ],
   "source": [
    "items = edg.__getitem__(1)\n",
    "\n",
    "print('len items (2, one for audio_windows one for frames)      ---->   ', len(items))\n",
    "print('shape input (audio) = (batch_size, audio_size*w_size)    ---->   ', items[0].shape)\n",
    "print('shape output (frame) = (batch_size, im_h, im_w, n_ch)    ---->   ', items[1].shape)"
   ]
  },
  {
   "cell_type": "code",
   "execution_count": null,
   "metadata": {},
   "outputs": [],
   "source": [
    "# Use in a tf.keras model\n",
    "\n",
    "# model.fit(edg,\n",
    "#           validation_size=0.1,\n",
    "#           epochs=10)"
   ]
  }
 ],
 "metadata": {
  "kernelspec": {
   "display_name": "Python 3",
   "language": "python",
   "name": "python3"
  },
  "language_info": {
   "codemirror_mode": {
    "name": "ipython",
    "version": 3
   },
   "file_extension": ".py",
   "mimetype": "text/x-python",
   "name": "python",
   "nbconvert_exporter": "python",
   "pygments_lexer": "ipython3",
   "version": "3.9.1"
  }
 },
 "nbformat": 4,
 "nbformat_minor": 2
}
